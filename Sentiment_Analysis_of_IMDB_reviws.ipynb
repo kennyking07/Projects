{
  "nbformat": 4,
  "nbformat_minor": 0,
  "metadata": {
    "kernelspec": {
      "display_name": "Python 3",
      "language": "python",
      "name": "python3"
    },
    "language_info": {
      "codemirror_mode": {
        "name": "ipython",
        "version": 3
      },
      "file_extension": ".py",
      "mimetype": "text/x-python",
      "name": "python",
      "nbconvert_exporter": "python",
      "pygments_lexer": "ipython3",
      "version": "3.6.8"
    },
    "colab": {
      "name": "Sentiment Analysis of IMDB reviws.ipynb",
      "provenance": []
    }
  },
  "cells": [
    {
      "cell_type": "markdown",
      "metadata": {
        "id": "A3e_xPS7G2qd",
        "colab_type": "text"
      },
      "source": [
        "## Sentiment Analysis of IMDB Reviews\n",
        "\n",
        "\n",
        "\n"
      ]
    },
    {
      "cell_type": "code",
      "metadata": {
        "id": "5N2TP1JcG2qg",
        "colab_type": "code",
        "colab": {}
      },
      "source": [
        "from tensorflow.python.keras.datasets import imdb\n",
        "(x_train,y_train),(x_test,y_test)=imdb.load_data(num_words=10000)"
      ],
      "execution_count": null,
      "outputs": []
    },
    {
      "cell_type": "code",
      "metadata": {
        "id": "tFpnC25YG2qq",
        "colab_type": "code",
        "colab": {},
        "outputId": "fd553a2b-00ca-46b5-f7de-ea61f1bf7d7f"
      },
      "source": [
        "print(x_train[0])"
      ],
      "execution_count": null,
      "outputs": [
        {
          "output_type": "stream",
          "text": [
            "[1, 14, 22, 16, 43, 530, 973, 1622, 1385, 65, 458, 4468, 66, 3941, 4, 173, 36, 256, 5, 25, 100, 43, 838, 112, 50, 670, 2, 9, 35, 480, 284, 5, 150, 4, 172, 112, 167, 2, 336, 385, 39, 4, 172, 4536, 1111, 17, 546, 38, 13, 447, 4, 192, 50, 16, 6, 147, 2025, 19, 14, 22, 4, 1920, 4613, 469, 4, 22, 71, 87, 12, 16, 43, 530, 38, 76, 15, 13, 1247, 4, 22, 17, 515, 17, 12, 16, 626, 18, 2, 5, 62, 386, 12, 8, 316, 8, 106, 5, 4, 2223, 5244, 16, 480, 66, 3785, 33, 4, 130, 12, 16, 38, 619, 5, 25, 124, 51, 36, 135, 48, 25, 1415, 33, 6, 22, 12, 215, 28, 77, 52, 5, 14, 407, 16, 82, 2, 8, 4, 107, 117, 5952, 15, 256, 4, 2, 7, 3766, 5, 723, 36, 71, 43, 530, 476, 26, 400, 317, 46, 7, 4, 2, 1029, 13, 104, 88, 4, 381, 15, 297, 98, 32, 2071, 56, 26, 141, 6, 194, 7486, 18, 4, 226, 22, 21, 134, 476, 26, 480, 5, 144, 30, 5535, 18, 51, 36, 28, 224, 92, 25, 104, 4, 226, 65, 16, 38, 1334, 88, 12, 16, 283, 5, 16, 4472, 113, 103, 32, 15, 16, 5345, 19, 178, 32]\n"
          ],
          "name": "stdout"
        }
      ]
    },
    {
      "cell_type": "code",
      "metadata": {
        "id": "NLhuIYukG2qw",
        "colab_type": "code",
        "colab": {},
        "outputId": "23244808-f269-4392-9199-57546715be45"
      },
      "source": [
        "print(y_train[0])"
      ],
      "execution_count": null,
      "outputs": [
        {
          "output_type": "stream",
          "text": [
            "1\n"
          ],
          "name": "stdout"
        }
      ]
    },
    {
      "cell_type": "code",
      "metadata": {
        "id": "1IjCMayaG2q1",
        "colab_type": "code",
        "colab": {}
      },
      "source": [
        "class_names=['Negative','Positive']"
      ],
      "execution_count": null,
      "outputs": []
    },
    {
      "cell_type": "code",
      "metadata": {
        "id": "CvBVPFCHG2q7",
        "colab_type": "code",
        "colab": {},
        "outputId": "b2e7d010-80d3-4aec-8dea-b109beedf339"
      },
      "source": [
        "word_index=imdb.get_word_index()\n",
        "print(word_index['hello'])"
      ],
      "execution_count": null,
      "outputs": [
        {
          "output_type": "stream",
          "text": [
            "4822\n"
          ],
          "name": "stdout"
        }
      ]
    },
    {
      "cell_type": "markdown",
      "metadata": {
        "id": "dQlGiieoG2rA",
        "colab_type": "text"
      },
      "source": [
        "## Decoding the Reviews\n"
      ]
    },
    {
      "cell_type": "code",
      "metadata": {
        "id": "HraN8kLtG2rB",
        "colab_type": "code",
        "colab": {}
      },
      "source": [
        "reverse_word_index=dict((value,key) for key,value in word_index.items())\n",
        "                       \n",
        "def decode(review):\n",
        "        text=''\n",
        "        for i in review:\n",
        "                text+=reverse_word_index[i]\n",
        "                text +=''\n",
        "        return text"
      ],
      "execution_count": null,
      "outputs": []
    },
    {
      "cell_type": "code",
      "metadata": {
        "id": "jnn3IgfRG2rH",
        "colab_type": "code",
        "colab": {},
        "outputId": "bf3bc9da-cd8e-465e-bcf7-9981d75b657b"
      },
      "source": [
        "decode(x_train[0])"
      ],
      "execution_count": null,
      "outputs": [
        {
          "output_type": "execute_result",
          "data": {
            "text/plain": [
              "\"theasyouwithoutthemselvespowerfulletslovestheirbecomesreachinghadjournalistoflotfromanyonetohaveafteroutatmospherenevermoreroomanditsoheartshowstoyearsofeverynevergoingandhelpmomentsorofeverychestvisualmovieexceptherwasseveralofenoughmorewithisnowcurrentfilmasyouofminepotentiallyunfortunatelyofyouthanhimthatwithoutthemselveshergetforwascampofyoumoviesometimesmoviethatwithscarybutandtostorywonderfulthatinseeingincharactertoof70smusicianswithhearthadshadowstheyofherethatwithherserioustohavedoeswhenfromwhywhathavecriticstheyisyouthatisn'tonewillverytoasitselfwithotherandinofseenoverlandedforanyoneofandbrshow'stowhetherfromthanoutthemselveshistoryhenamehalfsomebrofandoddwastwomostofmeanfor1anyanboatsheheshouldisthoughtfrogbutofscriptyounotwhilehistoryhehearttorealatbarrelbutwhenfromonebitthenhavetwoofscripttheirwithhernobodymostthatwithwasn'ttowitharmedactingwatchanforwithheartfeltfilmwantan\""
            ]
          },
          "metadata": {
            "tags": []
          },
          "execution_count": 11
        }
      ]
    },
    {
      "cell_type": "code",
      "metadata": {
        "id": "Z4vIFAceG2rN",
        "colab_type": "code",
        "colab": {},
        "outputId": "35033eb7-d677-4722-9c2b-958ce27aee85"
      },
      "source": [
        "def show_len():\n",
        "    print('1st training example:',len(x_train[0]))\n",
        "    print('2nd training example:',len(x_train[1]))\n",
        "    print('3rd Training example:',len(x_train[2]))\n",
        "show_len()"
      ],
      "execution_count": null,
      "outputs": [
        {
          "output_type": "stream",
          "text": [
            "1st training example: 218\n",
            "2nd training example: 189\n",
            "3rd Training example: 141\n"
          ],
          "name": "stdout"
        }
      ]
    },
    {
      "cell_type": "markdown",
      "metadata": {
        "id": "Zgtyu1uGG2rR",
        "colab_type": "text"
      },
      "source": [
        "\n",
        "## Padding the Examples\n",
        "\n"
      ]
    },
    {
      "cell_type": "code",
      "metadata": {
        "id": "RIxkhH_SG2rS",
        "colab_type": "code",
        "colab": {},
        "outputId": "99a0516f-6725-41fb-b83b-2fada0b53ff4"
      },
      "source": [
        "word_index['the']"
      ],
      "execution_count": null,
      "outputs": [
        {
          "output_type": "execute_result",
          "data": {
            "text/plain": [
              "1"
            ]
          },
          "metadata": {
            "tags": []
          },
          "execution_count": 16
        }
      ]
    },
    {
      "cell_type": "code",
      "metadata": {
        "id": "4zSg-KlmG2rX",
        "colab_type": "code",
        "colab": {}
      },
      "source": [
        "from tensorflow.python.keras.preprocessing.sequence import pad_sequences\n",
        "x_train=pad_sequences(x_train,value=word_index['the'],padding='post',maxlen=256)\n",
        "x_test=pad_sequences(x_test,value=word_index['the'],padding='post',maxlen=256)"
      ],
      "execution_count": null,
      "outputs": []
    },
    {
      "cell_type": "code",
      "metadata": {
        "id": "gIFFnAIwG2rb",
        "colab_type": "code",
        "colab": {},
        "outputId": "ab7bdbd5-e1d6-44ed-a13a-fecb36282100"
      },
      "source": [
        "show_len()"
      ],
      "execution_count": null,
      "outputs": [
        {
          "output_type": "stream",
          "text": [
            "1st training example: 256\n",
            "2nd training example: 256\n",
            "3rd Training example: 256\n"
          ],
          "name": "stdout"
        }
      ]
    },
    {
      "cell_type": "code",
      "metadata": {
        "id": "zKWdjYvJG2rg",
        "colab_type": "code",
        "colab": {},
        "outputId": "5e8ead9c-b6fc-4e8b-cfe5-7874647e4e39"
      },
      "source": [
        "decode(x_train[0])"
      ],
      "execution_count": null,
      "outputs": [
        {
          "output_type": "execute_result",
          "data": {
            "text/plain": [
              "\"theasyouwithoutthemselvespowerfulletslovestheirbecomesreachinghadjournalistoflotfromanyonetohaveafteroutatmospherenevermoreroomanditsoheartshowstoyearsofeverynevergoingandhelpmomentsorofeverychestvisualmovieexceptherwasseveralofenoughmorewithisnowcurrentfilmasyouofminepotentiallyunfortunatelyofyouthanhimthatwithoutthemselveshergetforwascampofyoumoviesometimesmoviethatwithscarybutandtostorywonderfulthatinseeingincharactertoof70smusicianswithhearthadshadowstheyofherethatwithherserioustohavedoeswhenfromwhywhathavecriticstheyisyouthatisn'tonewillverytoasitselfwithotherandinofseenoverlandedforanyoneofandbrshow'stowhetherfromthanoutthemselveshistoryhenamehalfsomebrofandoddwastwomostofmeanfor1anyanboatsheheshouldisthoughtfrogbutofscriptyounotwhilehistoryhehearttorealatbarrelbutwhenfromonebitthenhavetwoofscripttheirwithhernobodymostthatwithwasn'ttowitharmedactingwatchanforwithheartfeltfilmwantanthethethethethethethethethethethethethethethethethethethethethethethethethethethethethethethethethethethethethethe\""
            ]
          },
          "metadata": {
            "tags": []
          },
          "execution_count": 20
        }
      ]
    },
    {
      "cell_type": "markdown",
      "metadata": {
        "id": "-RLLnNz1G2rk",
        "colab_type": "text"
      },
      "source": [
        "##  Word Embeddings\n",
        "\n",
        "##  Creating and Training the Model\n"
      ]
    },
    {
      "cell_type": "code",
      "metadata": {
        "id": "eb5TFqwCG2rl",
        "colab_type": "code",
        "colab": {},
        "outputId": "6813ce95-f2e5-4a60-aee3-0a1337a0de68"
      },
      "source": [
        "from tensorflow.python.keras.models import Sequential\n",
        "from tensorflow.python.keras.layers import Dense,Embedding,GlobalAveragePooling1D\n",
        "model=Sequential([\n",
        "    Embedding(10000,16),\n",
        "    GlobalAveragePooling1D(),\n",
        "    Dense(16,activation='relu'),\n",
        "    Dense(1,activation='sigmoid')\n",
        "    \n",
        "])\n",
        "model.compile(\n",
        "    loss='binary_crossentropy',\n",
        "    optimizer='adam',\n",
        "    metrics=['accuracy']\n",
        ")\n",
        "model.summary()"
      ],
      "execution_count": null,
      "outputs": [
        {
          "output_type": "stream",
          "text": [
            "_________________________________________________________________\n",
            "Layer (type)                 Output Shape              Param #   \n",
            "=================================================================\n",
            "embedding_1 (Embedding)      (None, None, 16)          160000    \n",
            "_________________________________________________________________\n",
            "global_average_pooling1d_1 ( (None, 16)                0         \n",
            "_________________________________________________________________\n",
            "dense_2 (Dense)              (None, 16)                272       \n",
            "_________________________________________________________________\n",
            "dense_3 (Dense)              (None, 1)                 17        \n",
            "=================================================================\n",
            "Total params: 160,289\n",
            "Trainable params: 160,289\n",
            "Non-trainable params: 0\n",
            "_________________________________________________________________\n"
          ],
          "name": "stdout"
        }
      ]
    },
    {
      "cell_type": "code",
      "metadata": {
        "id": "IqN4wCLKG2rq",
        "colab_type": "code",
        "colab": {},
        "outputId": "d8f89847-51cc-4b53-94c1-ba5f0c24da03"
      },
      "source": [
        "from tensorflow.python.keras.callbacks import LambdaCallback\n",
        "simple_log=LambdaCallback(on_epoch_end=lambda e,l:print(e,end='.'))\n",
        "E=20\n",
        "h=model.fit(\n",
        "    x_train,y_train,\n",
        "    validation_split=0.2,\n",
        "    epochs=E,\n",
        "    callbacks=[simple_log],\n",
        "    verbose=False\n",
        ")"
      ],
      "execution_count": null,
      "outputs": [
        {
          "output_type": "stream",
          "text": [
            "c:\\users\\administrator\\appdata\\local\\programs\\python\\python36\\lib\\site-packages\\tensorflow\\python\\ops\\gradients_impl.py:112: UserWarning: Converting sparse IndexedSlices to a dense Tensor of unknown shape. This may consume a large amount of memory.\n",
            "  \"Converting sparse IndexedSlices to a dense Tensor of unknown shape. \"\n"
          ],
          "name": "stderr"
        },
        {
          "output_type": "stream",
          "text": [
            "0.1.2.3.4.5.6.7.8.9.10.11.12.13.14.15.16.17.18.19."
          ],
          "name": "stdout"
        }
      ]
    },
    {
      "cell_type": "markdown",
      "metadata": {
        "id": "LfrHY4L_G2rv",
        "colab_type": "text"
      },
      "source": [
        "##  Predictions and Evaluation\n",
        "\n"
      ]
    },
    {
      "cell_type": "code",
      "metadata": {
        "id": "iM2kdy8WG2rv",
        "colab_type": "code",
        "colab": {},
        "outputId": "bc72e696-0e7e-43ae-9cef-e95fca0564cc"
      },
      "source": [
        "import matplotlib.pyplot as plt\n",
        "%matplotlib inline\n",
        "plt.plot(range(E),h.history['acc'],label='Training')\n",
        "plt.plot(range(E),h.history['val_acc'],label='Validation')\n",
        "plt.legend()\n",
        "plt.show()"
      ],
      "execution_count": null,
      "outputs": [
        {
          "output_type": "display_data",
          "data": {
            "image/png": "[encoded data removed]",
            "text/plain": [
              "<Figure size 432x288 with 1 Axes>"
            ]
          },
          "metadata": {
            "tags": [],
            "needs_background": "light"
          }
        }
      ]
    },
    {
      "cell_type": "code",
      "metadata": {
        "id": "jW60FjzbG2ry",
        "colab_type": "code",
        "colab": {},
        "outputId": "2403bba2-3870-4142-82ba-74ca3aea9ed9"
      },
      "source": [
        "loss,acc=model.evaluate(x_test,y_test)\n",
        "print('Test Accuracy',acc*100)"
      ],
      "execution_count": null,
      "outputs": [
        {
          "output_type": "stream",
          "text": [
            "25000/25000 [==============================] - 1s 47us/step\n",
            "Test Accuracy 84.392\n"
          ],
          "name": "stdout"
        }
      ]
    },
    {
      "cell_type": "code",
      "metadata": {
        "id": "0wE9VUIjG2r1",
        "colab_type": "code",
        "colab": {},
        "outputId": "d642aebf-944f-48e5-a104-6f4f842214b0"
      },
      "source": [
        "import numpy as np\n",
        "p=model.predict(np.expand_dims(x_test[0],axis=0))\n",
        "print(class_names[np.argmax(p[0])])"
      ],
      "execution_count": null,
      "outputs": [
        {
          "output_type": "stream",
          "text": [
            "Negative\n"
          ],
          "name": "stdout"
        }
      ]
    },
    {
      "cell_type": "code",
      "metadata": {
        "id": "2VKR5kyhG2r4",
        "colab_type": "code",
        "colab": {},
        "outputId": "396b87e3-832b-41be-b458-34dfcb05f5fe"
      },
      "source": [
        "decode(x_test[0])"
      ],
      "execution_count": null,
      "outputs": [
        {
          "output_type": "execute_result",
          "data": {
            "text/plain": [
              "\"thewonderownasbyissequenceiiandandtoofhollywoodbrofdownshoutinggettingboringofeveritsadlysadlysadlyiiwasthendoesdon'tclosefaintafteronecarryasbyarebefavouritesallfamilyturnindoesasthreepartinanothersometobeprobablywithworldandheranhavefaintbeginningownasissequencethethethethethethethethethethethethethethethethethethethethethethethethethethethethethethethethethethethethethethethethethethethethethethethethethethethethethethethethethethethethethethethethethethethethethethethethethethethethethethethethethethethethethethethethethethethethethethethethethethethethethethethethethethethethethethethethethethethethethethethethethethethethethethethethethethethethethethethethethethethethethethethethethethethethethethethethethethethethethethethethethethethethethethethethethethethethethethethethethethethethethethethethethethethethe\""
            ]
          },
          "metadata": {
            "tags": []
          },
          "execution_count": 34
        }
      ]
    }
  ]
}